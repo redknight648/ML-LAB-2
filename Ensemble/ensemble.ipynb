{
 "cells": [
  {
   "cell_type": "code",
   "execution_count": 1,
   "id": "b3390e0a",
   "metadata": {},
   "outputs": [],
   "source": [
    "import pandas as pd\n",
    "from sklearn.preprocessing import LabelEncoder\n",
    "le = LabelEncoder()\n",
    "from sklearn.preprocessing import MinMaxScaler\n",
    "scaler = MinMaxScaler()\n",
    "from sklearn.model_selection import train_test_split\n",
    "from sklearn.ensemble import AdaBoostClassifier\n",
    "from sklearn.metrics import accuracy_score\n",
    "from sklearn.ensemble import GradientBoostingClassifier\n",
    "from sklearn.ensemble import RandomForestClassifier\n"
   ]
  },
  {
   "cell_type": "code",
   "execution_count": 2,
   "id": "f44e476c",
   "metadata": {},
   "outputs": [],
   "source": [
    "data =pd.read_csv('loanapproval.csv')\n",
    "data.head()\n",
    "# Checking for Missing values\n",
    "data.isnull().sum()\n",
    "# convert string variable to One Hot Encoding\n",
    "dummyfied_data = data.apply(le.fit_transform)\n",
    "dummyfied_data.head()\n",
    "# Scalling the numeric column\n",
    "col_to_scale =['age']\n",
    "dummyfied_data[col_to_scale] = scaler.fit_transform(dummyfied_data[col_to_scale])\n",
    "dummyfied_data.head()\n",
    "X = dummyfied_data.drop('Loan_approved',axis = 1)\n",
    "Y = dummyfied_data[['Loan_approved']]\n"
   ]
  },
  {
   "cell_type": "code",
   "execution_count": 3,
   "id": "80089ebc",
   "metadata": {},
   "outputs": [],
   "source": [
    "X_train, X_test, y_train, y_test = train_test_split(X,Y, test_size = 0.20,\n",
    "random_state = 42)\n",
    "test_df = pd.concat ([X_test,y_test],axis =1 )"
   ]
  },
  {
   "cell_type": "code",
   "execution_count": 4,
   "id": "756815ac",
   "metadata": {},
   "outputs": [],
   "source": [
    "train_df=pd.concat([X_train,y_train],axis=1)"
   ]
  },
  {
   "cell_type": "code",
   "execution_count": 5,
   "id": "e0ec3ca1",
   "metadata": {},
   "outputs": [
    {
     "name": "stderr",
     "output_type": "stream",
     "text": [
      "C:\\Users\\Pooja\\anaconda3\\lib\\site-packages\\sklearn\\utils\\validation.py:63: DataConversionWarning: A column-vector y was passed when a 1d array was expected. Please change the shape of y to (n_samples, ), for example using ravel().\n",
      "  return f(*args, **kwargs)\n"
     ]
    },
    {
     "name": "stdout",
     "output_type": "stream",
     "text": [
      "0.8879514415781488 0.8858946346200534\n"
     ]
    }
   ],
   "source": [
    "# Adaboost classifier\n",
    "abc = AdaBoostClassifier(random_state=0)\n",
    "abc_model = abc.fit(X_train, y_train)\n",
    "abc_pred = abc_model.predict(X_test)\n",
    "test_df['abc_pred'] = abc_pred\n",
    "# test_df.to_csv('classification_results.csv')\n",
    "\n",
    "abc_pred2=abc_model.predict(X_train)\n",
    "train_df['abc_pred']=abc_pred2\n",
    "print(accuracy_score(abc_pred2,y_train),accuracy_score(y_test, abc_pred))"
   ]
  },
  {
   "cell_type": "code",
   "execution_count": 6,
   "id": "95f58955",
   "metadata": {},
   "outputs": [
    {
     "name": "stderr",
     "output_type": "stream",
     "text": [
      "<ipython-input-6-9c5fb94b8fa9>:2: DataConversionWarning: A column-vector y was passed when a 1d array was expected. Please change the shape of y to (n_samples,), for example using ravel().\n",
      "  clf.fit(X_train, y_train)\n"
     ]
    },
    {
     "name": "stdout",
     "output_type": "stream",
     "text": [
      "0.8923520485584219 0.883709638261714\n"
     ]
    }
   ],
   "source": [
    "clf = RandomForestClassifier(random_state = 42)\n",
    "clf.fit(X_train, y_train)\n",
    "# Predicting on Test data and checking the accuracy. This can be extended to\n",
    "#train data as well\n",
    "rf_pred = clf.predict(X_test)\n",
    "test_df['rf_pred'] = rf_pred\n",
    "score = accuracy_score(y_test, rf_pred)\n",
    "\n",
    "\n",
    "rf_pred2 = clf.predict(X_train)\n",
    "train_df['rf_pred'] = rf_pred2\n",
    "print(accuracy_score(y_train,rf_pred2),score)"
   ]
  },
  {
   "cell_type": "code",
   "execution_count": 7,
   "id": "29fd956f",
   "metadata": {},
   "outputs": [
    {
     "name": "stderr",
     "output_type": "stream",
     "text": [
      "C:\\Users\\Pooja\\anaconda3\\lib\\site-packages\\sklearn\\utils\\validation.py:63: DataConversionWarning: A column-vector y was passed when a 1d array was expected. Please change the shape of y to (n_samples, ), for example using ravel().\n",
      "  return f(*args, **kwargs)\n"
     ]
    },
    {
     "name": "stdout",
     "output_type": "stream",
     "text": [
      "0.8894992412746586 0.8852876911871813\n"
     ]
    }
   ],
   "source": [
    "gbcl = GradientBoostingClassifier(random_state = 42)\n",
    "gbcl.fit(X_train, y_train)\n",
    "gbcl_pred = gbcl.predict(X_test)\n",
    "test_df['gbcl_pred'] = gbcl_pred\n",
    "# test_df.to_csv('classification_results.csv')\n",
    "score = accuracy_score(y_test, gbcl_pred)\n",
    "score\n",
    "\n",
    "gbcl_pred2 = gbcl.predict(X_train)\n",
    "train_df['gbcl_pred'] = gbcl_pred2\n",
    "print(accuracy_score(y_train,gbcl_pred2),score)"
   ]
  },
  {
   "cell_type": "code",
   "execution_count": 8,
   "id": "13c90312",
   "metadata": {},
   "outputs": [],
   "source": [
    "import tensorflow as tf\n",
    "from tensorflow import keras\n"
   ]
  },
  {
   "cell_type": "code",
   "execution_count": 9,
   "id": "c57a4654",
   "metadata": {},
   "outputs": [],
   "source": [
    "model=keras.Sequential([\n",
    "    keras.layers.Dense(3,input_shape=(5,),activation='relu'),\n",
    "    keras.layers.Dense(2,input_shape=(3,),activation='relu'),\n",
    "    keras.layers.Dense(1,activation='sigmoid'),\n",
    "])\n"
   ]
  },
  {
   "cell_type": "code",
   "execution_count": 10,
   "id": "740e4e9e",
   "metadata": {},
   "outputs": [
    {
     "name": "stdout",
     "output_type": "stream",
     "text": [
      "Epoch 1/5\n",
      "1030/1030 [==============================] - 5s 3ms/step - loss: 0.3917 - accuracy: 0.8876\n",
      "Epoch 2/5\n",
      "1030/1030 [==============================] - 3s 3ms/step - loss: 0.3558 - accuracy: 0.8876\n",
      "Epoch 3/5\n",
      "1030/1030 [==============================] - 3s 3ms/step - loss: 0.3510 - accuracy: 0.8876\n",
      "Epoch 4/5\n",
      "1030/1030 [==============================] - 4s 4ms/step - loss: 0.3488 - accuracy: 0.8876\n",
      "Epoch 5/5\n",
      "1030/1030 [==============================] - 4s 4ms/step - loss: 0.3476 - accuracy: 0.8876\n",
      "258/258 [==============================] - 1s 3ms/step - loss: 0.3487 - accuracy: 0.8865\n",
      "258/258 [==============================] - 1s 3ms/step\n",
      "1030/1030 [==============================] - 2s 2ms/step\n",
      "0.8865015780529255 0.887556904400607\n"
     ]
    }
   ],
   "source": [
    "# model.compile(optimizer='adam',loss='binary_crossentropy',metrics=['accuracy'])\n",
    "model.compile(optimizer ='adam',\n",
    "loss = 'binary_crossentropy',\n",
    "metrics = ['accuracy']\n",
    ")\n",
    "model.fit(X_train,y_train,epochs=5)\n",
    "model.evaluate(X_test,y_test)\n",
    "pred=model.predict(X_test)\n",
    "y_pred=[]\n",
    "for ele in pred:\n",
    "    if ele > 0.5:\n",
    "        y_pred.append(1)\n",
    "    else:\n",
    "        y_pred.append(0)\n",
    "pred2=model.predict(X_train)\n",
    "y_pred2=[]\n",
    "for ele in pred2:\n",
    "    if ele > 0.5:\n",
    "        y_pred2.append(1)\n",
    "    else:\n",
    "        y_pred2.append(0)\n",
    "print(accuracy_score(y_pred,y_test),accuracy_score(y_pred2,y_train))"
   ]
  },
  {
   "cell_type": "code",
   "execution_count": 11,
   "id": "e05aec2d",
   "metadata": {},
   "outputs": [],
   "source": [
    "train_df['nn_pred']=y_pred2\n",
    "test_df['nn_pred']=y_pred"
   ]
  },
  {
   "cell_type": "code",
   "execution_count": 12,
   "id": "33ad6ec5",
   "metadata": {},
   "outputs": [
    {
     "name": "stdout",
     "output_type": "stream",
     "text": [
      "Requirement already satisfied: xgboost in c:\\users\\pooja\\anaconda3\\lib\\site-packages (1.7.3)\n",
      "Requirement already satisfied: scipy in c:\\users\\pooja\\anaconda3\\lib\\site-packages (from xgboost) (1.6.2)\n",
      "Requirement already satisfied: numpy in c:\\users\\pooja\\anaconda3\\lib\\site-packages (from xgboost) (1.20.1)\n",
      "\n",
      "[notice] A new release of pip available: 22.1.2 -> 23.0\n",
      "[notice] To update, run: python.exe -m pip install --upgrade pip\n",
      "Note: you may need to restart the kernel to use updated packages.\n"
     ]
    }
   ],
   "source": [
    "pip install xgboost"
   ]
  },
  {
   "cell_type": "code",
   "execution_count": 13,
   "id": "862b0987",
   "metadata": {},
   "outputs": [],
   "source": [
    "from xgboost import XGBClassifier\n",
    "# Initialize and train your model\n",
    "model = XGBClassifier()\n",
    "model.fit(X_train,y_train)\n",
    "# Predict the test data based on the trained model\n",
    "xgbc_pred = model.predict(X_test)\n",
    "test_df['xg']=xgbc_pred\n",
    "\n",
    "xgbc_pred2=model.predict(X_train)\n",
    "train_df['xg']=xgbc_pred2\n",
    "test_df['xg']=xgbc_pred"
   ]
  },
  {
   "cell_type": "code",
   "execution_count": 15,
   "id": "514af637",
   "metadata": {},
   "outputs": [
    {
     "data": {
      "text/html": [
       "<div>\n",
       "<style scoped>\n",
       "    .dataframe tbody tr th:only-of-type {\n",
       "        vertical-align: middle;\n",
       "    }\n",
       "\n",
       "    .dataframe tbody tr th {\n",
       "        vertical-align: top;\n",
       "    }\n",
       "\n",
       "    .dataframe thead th {\n",
       "        text-align: right;\n",
       "    }\n",
       "</style>\n",
       "<table border=\"1\" class=\"dataframe\">\n",
       "  <thead>\n",
       "    <tr style=\"text-align: right;\">\n",
       "      <th></th>\n",
       "      <th>age</th>\n",
       "      <th>marital</th>\n",
       "      <th>Personal_loan</th>\n",
       "      <th>housing_loan</th>\n",
       "      <th>ever_defaulted</th>\n",
       "      <th>Loan_approved</th>\n",
       "      <th>abc_pred</th>\n",
       "      <th>rf_pred</th>\n",
       "      <th>gbcl_pred</th>\n",
       "      <th>nn_pred</th>\n",
       "      <th>xg</th>\n",
       "    </tr>\n",
       "  </thead>\n",
       "  <tbody>\n",
       "    <tr>\n",
       "      <th>12556</th>\n",
       "      <td>0.298701</td>\n",
       "      <td>1</td>\n",
       "      <td>2</td>\n",
       "      <td>0</td>\n",
       "      <td>1</td>\n",
       "      <td>0</td>\n",
       "      <td>0</td>\n",
       "      <td>0</td>\n",
       "      <td>0</td>\n",
       "      <td>0</td>\n",
       "      <td>0</td>\n",
       "    </tr>\n",
       "    <tr>\n",
       "      <th>35451</th>\n",
       "      <td>0.181818</td>\n",
       "      <td>1</td>\n",
       "      <td>0</td>\n",
       "      <td>0</td>\n",
       "      <td>0</td>\n",
       "      <td>0</td>\n",
       "      <td>0</td>\n",
       "      <td>0</td>\n",
       "      <td>0</td>\n",
       "      <td>0</td>\n",
       "      <td>0</td>\n",
       "    </tr>\n",
       "    <tr>\n",
       "      <th>30592</th>\n",
       "      <td>0.545455</td>\n",
       "      <td>1</td>\n",
       "      <td>0</td>\n",
       "      <td>0</td>\n",
       "      <td>0</td>\n",
       "      <td>0</td>\n",
       "      <td>0</td>\n",
       "      <td>0</td>\n",
       "      <td>0</td>\n",
       "      <td>0</td>\n",
       "      <td>0</td>\n",
       "    </tr>\n",
       "    <tr>\n",
       "      <th>17914</th>\n",
       "      <td>0.337662</td>\n",
       "      <td>0</td>\n",
       "      <td>2</td>\n",
       "      <td>0</td>\n",
       "      <td>0</td>\n",
       "      <td>0</td>\n",
       "      <td>0</td>\n",
       "      <td>0</td>\n",
       "      <td>0</td>\n",
       "      <td>0</td>\n",
       "      <td>0</td>\n",
       "    </tr>\n",
       "    <tr>\n",
       "      <th>3315</th>\n",
       "      <td>0.285714</td>\n",
       "      <td>2</td>\n",
       "      <td>0</td>\n",
       "      <td>0</td>\n",
       "      <td>1</td>\n",
       "      <td>0</td>\n",
       "      <td>0</td>\n",
       "      <td>0</td>\n",
       "      <td>0</td>\n",
       "      <td>0</td>\n",
       "      <td>0</td>\n",
       "    </tr>\n",
       "    <tr>\n",
       "      <th>...</th>\n",
       "      <td>...</td>\n",
       "      <td>...</td>\n",
       "      <td>...</td>\n",
       "      <td>...</td>\n",
       "      <td>...</td>\n",
       "      <td>...</td>\n",
       "      <td>...</td>\n",
       "      <td>...</td>\n",
       "      <td>...</td>\n",
       "      <td>...</td>\n",
       "      <td>...</td>\n",
       "    </tr>\n",
       "    <tr>\n",
       "      <th>6265</th>\n",
       "      <td>0.532468</td>\n",
       "      <td>1</td>\n",
       "      <td>0</td>\n",
       "      <td>0</td>\n",
       "      <td>1</td>\n",
       "      <td>0</td>\n",
       "      <td>0</td>\n",
       "      <td>0</td>\n",
       "      <td>0</td>\n",
       "      <td>0</td>\n",
       "      <td>0</td>\n",
       "    </tr>\n",
       "    <tr>\n",
       "      <th>11284</th>\n",
       "      <td>0.259740</td>\n",
       "      <td>1</td>\n",
       "      <td>0</td>\n",
       "      <td>0</td>\n",
       "      <td>0</td>\n",
       "      <td>0</td>\n",
       "      <td>0</td>\n",
       "      <td>0</td>\n",
       "      <td>0</td>\n",
       "      <td>0</td>\n",
       "      <td>0</td>\n",
       "    </tr>\n",
       "    <tr>\n",
       "      <th>38158</th>\n",
       "      <td>0.233766</td>\n",
       "      <td>1</td>\n",
       "      <td>2</td>\n",
       "      <td>0</td>\n",
       "      <td>0</td>\n",
       "      <td>1</td>\n",
       "      <td>0</td>\n",
       "      <td>0</td>\n",
       "      <td>0</td>\n",
       "      <td>0</td>\n",
       "      <td>0</td>\n",
       "    </tr>\n",
       "    <tr>\n",
       "      <th>860</th>\n",
       "      <td>0.298701</td>\n",
       "      <td>1</td>\n",
       "      <td>2</td>\n",
       "      <td>0</td>\n",
       "      <td>0</td>\n",
       "      <td>0</td>\n",
       "      <td>0</td>\n",
       "      <td>0</td>\n",
       "      <td>0</td>\n",
       "      <td>0</td>\n",
       "      <td>0</td>\n",
       "    </tr>\n",
       "    <tr>\n",
       "      <th>15795</th>\n",
       "      <td>0.155844</td>\n",
       "      <td>2</td>\n",
       "      <td>2</td>\n",
       "      <td>0</td>\n",
       "      <td>0</td>\n",
       "      <td>0</td>\n",
       "      <td>0</td>\n",
       "      <td>0</td>\n",
       "      <td>0</td>\n",
       "      <td>0</td>\n",
       "      <td>0</td>\n",
       "    </tr>\n",
       "  </tbody>\n",
       "</table>\n",
       "<p>32950 rows × 11 columns</p>\n",
       "</div>"
      ],
      "text/plain": [
       "            age  marital  Personal_loan  housing_loan  ever_defaulted  \\\n",
       "12556  0.298701        1              2             0               1   \n",
       "35451  0.181818        1              0             0               0   \n",
       "30592  0.545455        1              0             0               0   \n",
       "17914  0.337662        0              2             0               0   \n",
       "3315   0.285714        2              0             0               1   \n",
       "...         ...      ...            ...           ...             ...   \n",
       "6265   0.532468        1              0             0               1   \n",
       "11284  0.259740        1              0             0               0   \n",
       "38158  0.233766        1              2             0               0   \n",
       "860    0.298701        1              2             0               0   \n",
       "15795  0.155844        2              2             0               0   \n",
       "\n",
       "       Loan_approved  abc_pred  rf_pred  gbcl_pred  nn_pred  xg  \n",
       "12556              0         0        0          0        0   0  \n",
       "35451              0         0        0          0        0   0  \n",
       "30592              0         0        0          0        0   0  \n",
       "17914              0         0        0          0        0   0  \n",
       "3315               0         0        0          0        0   0  \n",
       "...              ...       ...      ...        ...      ...  ..  \n",
       "6265               0         0        0          0        0   0  \n",
       "11284              0         0        0          0        0   0  \n",
       "38158              1         0        0          0        0   0  \n",
       "860                0         0        0          0        0   0  \n",
       "15795              0         0        0          0        0   0  \n",
       "\n",
       "[32950 rows x 11 columns]"
      ]
     },
     "execution_count": 15,
     "metadata": {},
     "output_type": "execute_result"
    }
   ],
   "source": [
    "train_df"
   ]
  },
  {
   "cell_type": "code",
   "execution_count": 16,
   "id": "7acd527f",
   "metadata": {},
   "outputs": [
    {
     "data": {
      "text/plain": [
       "0.8855304685603301"
      ]
     },
     "execution_count": 16,
     "metadata": {},
     "output_type": "execute_result"
    }
   ],
   "source": [
    "column_names = ['abc_pred', 'rf_pred', 'gbcl_pred','nn_pred','xg']\n",
    "test_df['sum'] = test_df[column_names].sum(axis=1)\n",
    "test_df['ensembeled_pred'] = [1 if x > 2 else 0 for x in test_df['sum'] ]\n",
    "score = accuracy_score(y_test, test_df['ensembeled_pred'])\n",
    "score"
   ]
  },
  {
   "cell_type": "code",
   "execution_count": 17,
   "id": "29cc33bd",
   "metadata": {},
   "outputs": [
    {
     "data": {
      "text/plain": [
       "0.8901062215477997"
      ]
     },
     "execution_count": 17,
     "metadata": {},
     "output_type": "execute_result"
    }
   ],
   "source": [
    "train_df['sum'] = train_df[column_names].sum(axis=1)\n",
    "train_df['ensembeled_pred'] = [1 if x > 2 else 0 for x in train_df['sum'] ]\n",
    "score = accuracy_score(y_train, train_df['ensembeled_pred'])\n",
    "score"
   ]
  },
  {
   "cell_type": "code",
   "execution_count": 20,
   "id": "92ceb0a9",
   "metadata": {},
   "outputs": [],
   "source": [
    "train_df.to_csv('train1.csv')"
   ]
  },
  {
   "cell_type": "code",
   "execution_count": 21,
   "id": "2f2ef4ca",
   "metadata": {},
   "outputs": [],
   "source": [
    "test_df.to_csv(\"test2.csv\")"
   ]
  },
  {
   "cell_type": "code",
   "execution_count": 2,
   "id": "557f4c7b",
   "metadata": {},
   "outputs": [],
   "source": [
    "import pandas as pd\n",
    "from sklearn.preprocessing import LabelEncoder\n",
    "le = LabelEncoder()\n",
    "from sklearn.preprocessing import MinMaxScaler\n",
    "scaler = MinMaxScaler()\n",
    "from sklearn.model_selection import train_test_split\n",
    "from sklearn.ensemble import AdaBoostClassifier\n",
    "from sklearn.metrics import accuracy_score\n",
    "from sklearn.ensemble import GradientBoostingClassifier\n",
    "from sklearn.ensemble import RandomForestClassifier\n",
    "data =pd.read_csv('loanapproval.csv')\n",
    "data.head()\n",
    "# Checking for Missing values\n",
    "data.isnull().sum()\n",
    "# convert string variable to One Hot Encoding\n",
    "dummyfied_data = data.apply(le.fit_transform)\n",
    "dummyfied_data.head()\n",
    "# Scalling the numeric column\n",
    "col_to_scale =['age']\n",
    "dummyfied_data[col_to_scale] = scaler.fit_transform(dummyfied_data[col_to_scale])\n",
    "dummyfied_data.head()\n",
    "X = dummyfied_data.drop('Loan_approved',axis = 1)\n",
    "Y = dummyfied_data[['Loan_approved']]\n",
    "X_train, X_test, y_train, y_test = train_test_split(X,Y, test_size = 0.20,\n",
    "random_state = 42)\n"
   ]
  },
  {
   "cell_type": "code",
   "execution_count": 4,
   "id": "8fa1c6eb",
   "metadata": {},
   "outputs": [],
   "source": [
    "\n",
    "test_df = pd.concat ([X_test,y_test],axis =1 )\n",
    "train_df=pd.concat([X_train,y_train],axis=1)"
   ]
  },
  {
   "cell_type": "code",
   "execution_count": 7,
   "id": "467f9bd3",
   "metadata": {},
   "outputs": [
    {
     "name": "stderr",
     "output_type": "stream",
     "text": [
      "C:\\Users\\Pooja\\anaconda3\\lib\\site-packages\\sklearn\\utils\\validation.py:63: DataConversionWarning: A column-vector y was passed when a 1d array was expected. Please change the shape of y to (n_samples, ), for example using ravel().\n",
      "  return f(*args, **kwargs)\n"
     ]
    },
    {
     "name": "stdout",
     "output_type": "stream",
     "text": [
      "0.8879514415781488 0.8858946346200534\n"
     ]
    }
   ],
   "source": [
    "# Adaboost classifier\n",
    "abc = AdaBoostClassifier(random_state=0)\n",
    "abc_model = abc.fit(X_train, y_train)\n",
    "abc_pred = abc_model.predict(X_test)\n",
    "test_df['abc_pred'] = abc_pred\n",
    "# test_df.to_csv('classification_results.csv')\n",
    "score = accuracy_score(y_test, abc_pred)\n",
    "\n",
    "\n",
    "abc_pred2 = abc_model.predict(X_train)\n",
    "train_df['abc_pred'] = abc_pred2\n",
    "print(accuracy_score(abc_pred2,y_train),score)"
   ]
  },
  {
   "cell_type": "code",
   "execution_count": 9,
   "id": "2972cf58",
   "metadata": {},
   "outputs": [
    {
     "name": "stderr",
     "output_type": "stream",
     "text": [
      "<ipython-input-9-86cca3bdc875>:2: DataConversionWarning: A column-vector y was passed when a 1d array was expected. Please change the shape of y to (n_samples,), for example using ravel().\n",
      "  clf.fit(X_train, y_train)\n"
     ]
    },
    {
     "name": "stdout",
     "output_type": "stream",
     "text": [
      "0.883709638261714 0.8923520485584219\n"
     ]
    }
   ],
   "source": [
    "clf = RandomForestClassifier(random_state = 42)\n",
    "clf.fit(X_train, y_train)\n",
    "# Predicting on Test data and checking the accuracy. This can be extended to\n",
    "#train data as well\n",
    "rf_pred = clf.predict(X_test)\n",
    "test_df['rf_pred'] = rf_pred\n",
    "score = accuracy_score(y_test, rf_pred)\n",
    " \n",
    "    \n",
    "rf_pred2 = clf.predict(X_train)\n",
    "train_df['rf_pred'] = rf_pred2\n",
    "score2 = accuracy_score(y_train, rf_pred2)\n",
    "print(score,score2)"
   ]
  },
  {
   "cell_type": "code",
   "execution_count": 10,
   "id": "13dcdda2",
   "metadata": {},
   "outputs": [
    {
     "name": "stderr",
     "output_type": "stream",
     "text": [
      "C:\\Users\\Pooja\\anaconda3\\lib\\site-packages\\sklearn\\utils\\validation.py:63: DataConversionWarning: A column-vector y was passed when a 1d array was expected. Please change the shape of y to (n_samples, ), for example using ravel().\n",
      "  return f(*args, **kwargs)\n"
     ]
    },
    {
     "name": "stdout",
     "output_type": "stream",
     "text": [
      "0.8852876911871813 0.8894992412746586\n"
     ]
    }
   ],
   "source": [
    "# Gradient boosting classifier\n",
    "gbcl = GradientBoostingClassifier(random_state = 42)\n",
    "gbcl.fit(X_train, y_train)\n",
    "gbcl_pred = gbcl.predict(X_test)\n",
    "test_df['gbcl_pred'] = gbcl_pred\n",
    "# test_df.to_csv('classification_results.csv')\n",
    "score = accuracy_score(y_test, gbcl_pred)\n",
    "\n",
    "\n",
    "gbcl_pred2 = gbcl.predict(X_train)\n",
    "train_df['gbcl_pred'] = gbcl_pred2\n",
    "# test_df.to_csv('classification_results.csv')\n",
    "score2 = accuracy_score(y_train, gbcl_pred2)\n",
    "print(score,score2)"
   ]
  },
  {
   "cell_type": "code",
   "execution_count": 12,
   "id": "c65e7c41",
   "metadata": {},
   "outputs": [
    {
     "name": "stdout",
     "output_type": "stream",
     "text": [
      "0.8911380880121396 0.8894992412746586\n"
     ]
    }
   ],
   "source": [
    "from xgboost import XGBClassifier\n",
    "xgb=XGBClassifier()\n",
    "xgb.fit(X_train,y_train)\n",
    "pred=xgb.predict(X_test)\n",
    "test_df['xgb_pred'] = pred\n",
    "score=accuracy_score(y_test,pred)\n",
    "\n",
    "pred2=xgb.predict(X_train)\n",
    "train_df['xgb_pred'] = pred2\n",
    "score=accuracy_score(y_train,pred2)\n",
    "print(score,score2)"
   ]
  },
  {
   "cell_type": "code",
   "execution_count": 14,
   "id": "6a3af28b",
   "metadata": {},
   "outputs": [
    {
     "name": "stdout",
     "output_type": "stream",
     "text": [
      "Epoch 1/5\n",
      "1030/1030 [==============================] - 5s 3ms/step - loss: 0.3786 - accuracy: 0.1124\n",
      "Epoch 2/5\n",
      "1030/1030 [==============================] - 3s 3ms/step - loss: 0.3531 - accuracy: 0.1124\n",
      "Epoch 3/5\n",
      "1030/1030 [==============================] - 3s 3ms/step - loss: 0.3484 - accuracy: 0.1124\n",
      "Epoch 4/5\n",
      "1030/1030 [==============================] - 3s 3ms/step - loss: 0.3468 - accuracy: 0.1124\n",
      "Epoch 5/5\n",
      "1030/1030 [==============================] - 3s 3ms/step - loss: 0.3458 - accuracy: 0.1124\n",
      "258/258 [==============================] - 1s 3ms/step - loss: 0.3477 - accuracy: 0.1135\n",
      "258/258 [==============================] - 1s 2ms/step\n",
      "1030/1030 [==============================] - 2s 2ms/step\n"
     ]
    }
   ],
   "source": [
    "from tensorflow import keras\n",
    "\n",
    "model=keras.Sequential([\n",
    "    keras.layers.Dense(3,input_shape=(5,),activation='relu'),\n",
    "    keras.layers.Dense(2,input_shape=(5,),activation='relu'),\n",
    "    keras.layers.Dense(1,activation='softmax'),\n",
    "])\n",
    "model.compile(optimizer='adam',loss='binary_crossentropy',metrics=['accuracy'])\n",
    "model.fit(X_train,y_train,epochs=5)\n",
    "model.evaluate(X_test,y_test)\n",
    "pred=model.predict(X_test)\n",
    "y_pred=[]\n",
    "for ele in pred:\n",
    "    if ele > 0.5:\n",
    "        y_pred.append(1)\n",
    "    else:\n",
    "        y_pred.append(0)\n",
    "score=accuracy_score(y_pred,y_test)\n",
    "test_df['nn_pred']=y_pred\n",
    "\n",
    "\n",
    "pred2=model.predict(X_train)\n",
    "y_pred2=[]\n",
    "for ele in pred2:\n",
    "    if ele > 0.5:\n",
    "        y_pred2.append(1)\n",
    "    else:\n",
    "        y_pred2.append(0)\n",
    "score2=accuracy_score(y_pred2,y_train)\n",
    "train_df['nn_pred']=y_pred2"
   ]
  },
  {
   "cell_type": "code",
   "execution_count": 15,
   "id": "4196179e",
   "metadata": {},
   "outputs": [
    {
     "data": {
      "text/plain": [
       "0.8851663025006069"
      ]
     },
     "execution_count": 15,
     "metadata": {},
     "output_type": "execute_result"
    }
   ],
   "source": [
    "column_names = ['abc_pred', 'rf_pred', 'gbcl_pred','nn_pred','xgb_pred']\n",
    "test_df['sum'] = test_df[column_names].sum(axis=1)\n",
    "test_df['ensembeled_pred'] = [1 if x > 2 else 0 for x in test_df['sum'] ]\n",
    "score = accuracy_score(y_test, test_df['ensembeled_pred'])\n",
    "score"
   ]
  },
  {
   "cell_type": "code",
   "execution_count": 16,
   "id": "bceb06e2",
   "metadata": {},
   "outputs": [
    {
     "data": {
      "text/plain": [
       "0.8911077389984825"
      ]
     },
     "execution_count": 16,
     "metadata": {},
     "output_type": "execute_result"
    }
   ],
   "source": [
    "column_names = ['abc_pred', 'rf_pred', 'gbcl_pred','nn_pred','xgb_pred']\n",
    "train_df['sum'] = train_df[column_names].sum(axis=1)\n",
    "train_df['ensembeled_pred'] = [1 if x > 2 else 0 for x in train_df['sum'] ]\n",
    "score = accuracy_score(y_train, train_df['ensembeled_pred'])\n",
    "score"
   ]
  },
  {
   "cell_type": "code",
   "execution_count": null,
   "id": "cb861b57",
   "metadata": {},
   "outputs": [],
   "source": []
  }
 ],
 "metadata": {
  "kernelspec": {
   "display_name": "Python 3",
   "language": "python",
   "name": "python3"
  },
  "language_info": {
   "codemirror_mode": {
    "name": "ipython",
    "version": 3
   },
   "file_extension": ".py",
   "mimetype": "text/x-python",
   "name": "python",
   "nbconvert_exporter": "python",
   "pygments_lexer": "ipython3",
   "version": "3.8.8"
  }
 },
 "nbformat": 4,
 "nbformat_minor": 5
}
