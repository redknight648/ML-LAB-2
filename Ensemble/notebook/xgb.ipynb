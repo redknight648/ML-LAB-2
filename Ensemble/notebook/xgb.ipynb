{
 "cells": [
  {
   "cell_type": "code",
   "execution_count": 13,
   "metadata": {},
   "outputs": [],
   "source": [
    "# !pip install xgboost\n",
    "import xgboost\n",
    "import pandas as pd\n",
    "from sklearn.model_selection import train_test_split\n",
    "from sklearn.metrics import mean_squared_error\n",
    "from xgboost import XGBRegressor\n",
    "\n",
    "\n",
    "data = pd.read_csv('insurance.csv')\n",
    "\n",
    "cat_col = ['gender','region','smoker']\n",
    "data_dummies = pd.get_dummies(data,columns = cat_col, drop_first = True)\n",
    "X = data_dummies[['age','bmi','children','gender_male','region_northwest','region_southeast','region_southwest','smoker_yes']]\n",
    "Y = data[['charges']]\n",
    "\n",
    "# train_test_split\n",
    "X_train, X_test, y_train, y_test = train_test_split(X,Y, test_size = 0.20, random_state = 42)\n",
    "test_df = pd.concat ([X_test,y_test],axis =1 )"
   ]
  },
  {
   "cell_type": "code",
   "execution_count": 14,
   "metadata": {},
   "outputs": [
    {
     "name": "stdout",
     "output_type": "stream",
     "text": [
      "25827597.36079942\n"
     ]
    }
   ],
   "source": [
    "model = XGBRegressor()\n",
    "model.fit(X_train,y_train)\n",
    "xgb_pred = model.predict(X_test)\n",
    "xgb_pred = [round(value) for value in xgb_pred]\n",
    "test_df['xgb_pred'] = xgb_pred\n",
    "# test_df.to_csv('gbm_reg_results.csv')\n",
    "mse = mean_squared_error(y_test, xgb_pred)\n",
    "print(mse)\n"
   ]
  },
  {
   "cell_type": "code",
   "execution_count": 15,
   "metadata": {},
   "outputs": [
    {
     "name": "stdout",
     "output_type": "stream",
     "text": [
      "19895032.37827449\n"
     ]
    }
   ],
   "source": [
    "model = XGBRegressor(eta = 0.05)\n",
    "model.fit(X_train,y_train)\n",
    "xgb_pred = model.predict(X_test)\n",
    "test_df['xgb_pred'] = xgb_pred\n",
    "# test_df.to_csv('gbm_reg_results.csv')\n",
    "mse = mean_squared_error(y_test, xgb_pred)\n",
    "print(mse)"
   ]
  },
  {
   "cell_type": "code",
   "execution_count": 18,
   "metadata": {},
   "outputs": [
    {
     "name": "stdout",
     "output_type": "stream",
     "text": [
      "19397861.953574885\n"
     ]
    }
   ],
   "source": [
    "model = XGBRegressor(eta = 0.04)\n",
    "model.fit(X_train,y_train)\n",
    "xgb_pred = model.predict(X_test)\n",
    "test_df['xgb_pred'] = xgb_pred\n",
    "# test_df.to_csv('gbm_reg_results.csv')\n",
    "mse = mean_squared_error(y_test, xgb_pred)\n",
    "print(mse)"
   ]
  },
  {
   "cell_type": "code",
   "execution_count": 41,
   "metadata": {},
   "outputs": [
    {
     "data": {
      "text/plain": [
       "0.7161016949152542"
      ]
     },
     "execution_count": 41,
     "metadata": {},
     "output_type": "execute_result"
    }
   ],
   "source": [
    "import xgboost\n",
    "import pandas as pd\n",
    "from sklearn.model_selection import train_test_split\n",
    "from xgboost import XGBClassifier\n",
    "from sklearn.metrics import accuracy_score\n",
    "from sklearn.preprocessing import LabelEncoder\n",
    "le = LabelEncoder()\n",
    "\n",
    "data = pd.read_csv('rainfall.csv')\n",
    "X = data[['MinTemp','MaxTemp','WindSpeed','Humidity9am','RainToday']]\n",
    "Y = data[['RainTomorrow']]\n",
    "Y = le.fit_transform(Y)\n",
    "Y = pd.DataFrame(Y)\n",
    "\n",
    "# train_test_split\n",
    "X_train, X_test, y_train, y_test = train_test_split(X,Y, test_size = 0.20, random_state = 42)\n",
    "\n",
    "test_df = pd.concat ([X_test,y_test],axis =1 )\n",
    "\n",
    "model = XGBClassifier()\n",
    "model.fit(X_train,y_train)\n",
    "xgbc_pred = model.predict(X_test)\n",
    "test_df['xgbc_pred'] = xgbc_pred\n",
    "# test_df.to_csv('gbm_reg_results.csv')\n",
    "score = accuracy_score(y_test, xgbc_pred)\n",
    "score \n"
   ]
  }
 ],
 "metadata": {
  "kernelspec": {
   "display_name": "Python 3",
   "language": "python",
   "name": "python3"
  },
  "language_info": {
   "codemirror_mode": {
    "name": "ipython",
    "version": 3
   },
   "file_extension": ".py",
   "mimetype": "text/x-python",
   "name": "python",
   "nbconvert_exporter": "python",
   "pygments_lexer": "ipython3",
   "version": "3.7.6"
  }
 },
 "nbformat": 4,
 "nbformat_minor": 4
}
