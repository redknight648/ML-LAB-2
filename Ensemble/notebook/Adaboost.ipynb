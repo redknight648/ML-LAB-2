{
 "cells": [
  {
   "cell_type": "code",
   "execution_count": 4,
   "metadata": {},
   "outputs": [
    {
     "name": "stderr",
     "output_type": "stream",
     "text": [
      "C:\\ProgramData\\Anaconda3\\lib\\site-packages\\sklearn\\utils\\validation.py:760: DataConversionWarning: A column-vector y was passed when a 1d array was expected. Please change the shape of y to (n_samples, ), for example using ravel().\n",
      "  y = column_or_1d(y, warn=True)\n"
     ]
    },
    {
     "data": {
      "text/plain": [
       "0.690677966101695"
      ]
     },
     "execution_count": 4,
     "metadata": {},
     "output_type": "execute_result"
    }
   ],
   "source": [
    "import pandas as pd\n",
    "from sklearn.model_selection import train_test_split\n",
    "from sklearn.ensemble import AdaBoostClassifier\n",
    "from sklearn.metrics import accuracy_score\n",
    "\n",
    "data = pd.read_csv('rainfall.csv')\n",
    "\n",
    "X = data[['MinTemp','MaxTemp','WindSpeed','Humidity9am','RainToday']]\n",
    "Y = data[['RainTomorrow']]\n",
    "\n",
    "X_train, X_test, y_train, y_test = train_test_split(X,Y, test_size = 0.20, random_state = 42)\n",
    "\n",
    "test_df = pd.concat ([X_test,y_test],axis =1 )\n",
    "\n",
    "abc = AdaBoostClassifier(random_state=0)\n",
    "abc_model = abc.fit(X_train, y_train)\n",
    "abc_pred = abc_model.predict(X_test)\n",
    "test_df['abc_pred'] = abc_pred\n",
    "# test_df.to_csv('classification_results.csv')\n",
    "score = accuracy_score(y_test, abc_pred)\n",
    "score"
   ]
  },
  {
   "cell_type": "code",
   "execution_count": 5,
   "metadata": {},
   "outputs": [
    {
     "name": "stdout",
     "output_type": "stream",
     "text": [
      "32423829.696646817\n"
     ]
    },
    {
     "name": "stderr",
     "output_type": "stream",
     "text": [
      "C:\\ProgramData\\Anaconda3\\lib\\site-packages\\sklearn\\utils\\validation.py:760: DataConversionWarning: A column-vector y was passed when a 1d array was expected. Please change the shape of y to (n_samples, ), for example using ravel().\n",
      "  y = column_or_1d(y, warn=True)\n"
     ]
    }
   ],
   "source": [
    "from sklearn.ensemble import AdaBoostRegressor\n",
    "from sklearn.metrics import mean_squared_error\n",
    "\n",
    "data = pd.read_csv('insurance.csv')\n",
    "\n",
    "cat_col = ['gender','region','smoker']\n",
    "data_dummies = pd.get_dummies(data,columns = cat_col, drop_first = True)\n",
    "X = data_dummies[['age','bmi','children','gender_male','region_northwest','region_southeast','region_southwest','smoker_yes']]\n",
    "Y = data[['charges']]\n",
    "\n",
    "# train_test_split\n",
    "X_train, X_test, y_train, y_test = train_test_split(X,Y, test_size = 0.20, random_state = 42)\n",
    "test_df = pd.concat ([X_test,y_test],axis =1 )\n",
    "\n",
    "adbr = AdaBoostRegressor()  \n",
    "adbr.fit(X_train, y_train)  \n",
    "\n",
    "adbr_pred = adbr.predict(X_test)\n",
    "test_df['adbr_pred'] = adbr_pred\n",
    "# test_df.to_csv('rf_reg_results.csv')\n",
    "mse = mean_squared_error(y_test, adbr_pred)\n",
    "print(mse)"
   ]
  }
 ],
 "metadata": {
  "kernelspec": {
   "display_name": "Python 3",
   "language": "python",
   "name": "python3"
  },
  "language_info": {
   "codemirror_mode": {
    "name": "ipython",
    "version": 3
   },
   "file_extension": ".py",
   "mimetype": "text/x-python",
   "name": "python",
   "nbconvert_exporter": "python",
   "pygments_lexer": "ipython3",
   "version": "3.7.6"
  }
 },
 "nbformat": 4,
 "nbformat_minor": 4
}
