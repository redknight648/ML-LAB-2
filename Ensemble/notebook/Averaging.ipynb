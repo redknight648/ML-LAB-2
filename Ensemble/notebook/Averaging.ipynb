{
 "cells": [
  {
   "cell_type": "code",
   "execution_count": 6,
   "metadata": {},
   "outputs": [
    {
     "name": "stdout",
     "output_type": "stream",
     "text": [
      "33596915.851361446\n",
      "166492259.9106511\n",
      "67995542.8942302\n",
      "55987970.28777228\n"
     ]
    },
    {
     "name": "stderr",
     "output_type": "stream",
     "text": [
      "C:\\ProgramData\\Anaconda3\\lib\\site-packages\\sklearn\\utils\\validation.py:760: DataConversionWarning: A column-vector y was passed when a 1d array was expected. Please change the shape of y to (n_samples, ), for example using ravel().\n",
      "  y = column_or_1d(y, warn=True)\n"
     ]
    }
   ],
   "source": [
    "import pandas as pd\n",
    "from sklearn.model_selection import train_test_split\n",
    "from sklearn.linear_model import LinearRegression\n",
    "from sklearn.metrics import mean_squared_error\n",
    "from sklearn.svm import SVR\n",
    "\n",
    "\n",
    "data = pd.read_csv('insurance.csv')\n",
    "cat_col = ['gender','region','smoker']\n",
    "data_dummies = pd.get_dummies(data,columns = cat_col, drop_first = True)\n",
    "X = data_dummies[['age','bmi','children','gender_male','region_northwest','region_southeast','region_southwest','smoker_yes']]\n",
    "Y = data[['charges']]\n",
    "\n",
    "# train_test_split\n",
    "X_train, X_test, y_train, y_test = train_test_split(X,Y, test_size = 0.20, random_state = 42)\n",
    "test_df = pd.concat ([X_test,y_test],axis =1 )\n",
    "\n",
    "# Model 1 Linear regression\n",
    "regr = LinearRegression()  \n",
    "regr.fit(X_train, y_train)\n",
    "\n",
    "predicted_lreg = regr.predict(X_test)\n",
    "test_df['predicted_lreg'] = predicted_lreg\n",
    "mse = mean_squared_error(y_test, predicted_lreg)\n",
    "print(mse)\n",
    "\n",
    "# SVR \n",
    "regressor = SVR(kernel='rbf')\n",
    "regressor.fit(X_train, y_train)\n",
    "predicted_svr = regressor.predict(X_test)\n",
    "test_df['predicted_svr'] = predicted_svr\n",
    "\n",
    "mse = mean_squared_error(y_test, predicted_svr)\n",
    "print(mse)\n",
    "\n",
    "## Averaging\n",
    "test_df.head()\n",
    "test_df['final_pred_avg'] = test_df[['predicted_lreg', 'predicted_svr']].mean(axis=1)\n",
    "mse = mean_squared_error(y_test, test_df['final_pred_avg'])\n",
    "print(mse)\n",
    "\n",
    "## Weighted Averaging\n",
    "test_df['predicted_lreg_wgtd'] = predicted_lreg*0.6\n",
    "test_df['predicted_svr_wgtd'] = predicted_svr*0.4\n",
    "test_df['final_pred_avg_wghtd'] = test_df[['predicted_lreg_wgtd', 'predicted_svr_wgtd']].sum(axis=1)\n",
    "mse = mean_squared_error(y_test, test_df['final_pred_avg_wghtd'])\n",
    "print(mse)"
   ]
  }
 ],
 "metadata": {
  "kernelspec": {
   "display_name": "Python 3",
   "language": "python",
   "name": "python3"
  },
  "language_info": {
   "codemirror_mode": {
    "name": "ipython",
    "version": 3
   },
   "file_extension": ".py",
   "mimetype": "text/x-python",
   "name": "python",
   "nbconvert_exporter": "python",
   "pygments_lexer": "ipython3",
   "version": "3.7.6"
  }
 },
 "nbformat": 4,
 "nbformat_minor": 4
}
