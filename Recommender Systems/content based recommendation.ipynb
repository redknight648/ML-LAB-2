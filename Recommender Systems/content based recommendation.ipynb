{
 "cells": [
  {
   "cell_type": "code",
   "execution_count": 72,
   "metadata": {},
   "outputs": [],
   "source": [
    "import pandas as pd\n",
    "from sklearn.feature_extraction.text import TfidfVectorizer\n",
    "from sklearn.metrics.pairwise import cosine_similarity, linear_kernel\n",
    "\n",
    "movies_merged = pd.read_csv('merged_movies.csv') "
   ]
  },
  {
   "cell_type": "code",
   "execution_count": 73,
   "metadata": {},
   "outputs": [
    {
     "data": {
      "text/plain": [
       "Avatar                                      1.000000\n",
       "Pirates of the Caribbean: At World's End    0.000000\n",
       "Spectre                                     0.000000\n",
       "The Dark Knight Rises                       0.022512\n",
       "John Carter                                 0.000000\n",
       "                                              ...   \n",
       "El Mariachi                                 0.000000\n",
       "Newlyweds                                   0.000000\n",
       "Signed, Sealed, Delivered                   0.000000\n",
       "Shanghai Calling                            0.000000\n",
       "My Date with Drew                           0.000000\n",
       "Name: Avatar, Length: 4798, dtype: float64"
      ]
     },
     "execution_count": 73,
     "metadata": {},
     "output_type": "execute_result"
    }
   ],
   "source": [
    "tfidf_model = TfidfVectorizer(min_df = 3, max_features = None,\n",
    "                     strip_accents = 'unicode', analyzer = 'word', \n",
    "                     token_pattern = r'\\w{1,}', ngram_range = (1,3),\n",
    "                      stop_words = 'english')\n",
    "tfidf_overview = tfv.fit_transform(movies_merged['overview'].values.astype('str'))\n",
    "tfidf_overview.shape\n",
    "\n",
    "cosine_score = linear_kernel(tfidf_overview, tfidf_overview)\n",
    "cosine_score\n",
    "\n",
    "cosine_df = pd.DataFrame(cosine_score, columns = movies_merged['title'].values.tolist())\n",
    "cosine_df.index = movies_merged['title'].values.tolist()\n",
    "cosine_df.head()\n",
    "cosine_df.iloc[0]"
   ]
  },
  {
   "cell_type": "code",
   "execution_count": 76,
   "metadata": {},
   "outputs": [
    {
     "data": {
      "text/html": [
       "<div>\n",
       "<style scoped>\n",
       "    .dataframe tbody tr th:only-of-type {\n",
       "        vertical-align: middle;\n",
       "    }\n",
       "\n",
       "    .dataframe tbody tr th {\n",
       "        vertical-align: top;\n",
       "    }\n",
       "\n",
       "    .dataframe thead th {\n",
       "        text-align: right;\n",
       "    }\n",
       "</style>\n",
       "<table border=\"1\" class=\"dataframe\">\n",
       "  <thead>\n",
       "    <tr style=\"text-align: right;\">\n",
       "      <th></th>\n",
       "      <th>Recommended_Movie</th>\n",
       "      <th>Score</th>\n",
       "    </tr>\n",
       "  </thead>\n",
       "  <tbody>\n",
       "    <tr>\n",
       "      <th>0</th>\n",
       "      <td>Batman Forever</td>\n",
       "      <td>0.435777</td>\n",
       "    </tr>\n",
       "    <tr>\n",
       "      <th>1</th>\n",
       "      <td>The Dark Knight</td>\n",
       "      <td>0.375685</td>\n",
       "    </tr>\n",
       "    <tr>\n",
       "      <th>2</th>\n",
       "      <td>Batman</td>\n",
       "      <td>0.330522</td>\n",
       "    </tr>\n",
       "    <tr>\n",
       "      <th>3</th>\n",
       "      <td>Batman Returns</td>\n",
       "      <td>0.259449</td>\n",
       "    </tr>\n",
       "    <tr>\n",
       "      <th>4</th>\n",
       "      <td>Slow Burn</td>\n",
       "      <td>0.197896</td>\n",
       "    </tr>\n",
       "    <tr>\n",
       "      <th>5</th>\n",
       "      <td>Batman Begins</td>\n",
       "      <td>0.173461</td>\n",
       "    </tr>\n",
       "    <tr>\n",
       "      <th>6</th>\n",
       "      <td>JFK</td>\n",
       "      <td>0.159306</td>\n",
       "    </tr>\n",
       "    <tr>\n",
       "      <th>7</th>\n",
       "      <td>Batman v Superman: Dawn of Justice</td>\n",
       "      <td>0.157821</td>\n",
       "    </tr>\n",
       "    <tr>\n",
       "      <th>8</th>\n",
       "      <td>Batman: The Dark Knight Returns, Part 2</td>\n",
       "      <td>0.153571</td>\n",
       "    </tr>\n",
       "    <tr>\n",
       "      <th>9</th>\n",
       "      <td>Batman &amp; Robin</td>\n",
       "      <td>0.147145</td>\n",
       "    </tr>\n",
       "  </tbody>\n",
       "</table>\n",
       "</div>"
      ],
      "text/plain": [
       "                         Recommended_Movie     Score\n",
       "0                           Batman Forever  0.435777\n",
       "1                          The Dark Knight  0.375685\n",
       "2                                   Batman  0.330522\n",
       "3                           Batman Returns  0.259449\n",
       "4                                Slow Burn  0.197896\n",
       "5                            Batman Begins  0.173461\n",
       "6                                      JFK  0.159306\n",
       "7       Batman v Superman: Dawn of Justice  0.157821\n",
       "8  Batman: The Dark Knight Returns, Part 2  0.153571\n",
       "9                           Batman & Robin  0.147145"
      ]
     },
     "execution_count": 76,
     "metadata": {},
     "output_type": "execute_result"
    }
   ],
   "source": [
    "movie_index = pd.Series(movies_merged.index, index = movies_merged['title'])\n",
    "movie_titles = movies_merged['title']\n",
    "\n",
    "def reccomend_me(movie):\n",
    "    # get the index of the movie\n",
    "    index = movie_index[movie]\n",
    "    # convert into a list of movie index and similarity values\n",
    "    similarity = list(enumerate(cosine_score[index]))\n",
    "    # sort list by the similarity value\n",
    "    similarity = sorted(similarity, key = lambda x: x[1], reverse = True)\n",
    "    # Get the top 10 most similar movies. Exclude the first value because it is itself.\n",
    "    similarity = similarity[1:11]\n",
    "    recommended_index = [i[0] for i in similarity] \n",
    "    recommended_title = [movie_titles[i] for i in recommended_index]\n",
    "    recommended_score = [i[1] for i in similarity]\n",
    "    return pd.DataFrame({'Recommended_Movie': recommended_title,\n",
    "                         'Score': recommended_score})\n",
    "\n",
    "reccomend_me('The Dark Knight Rises')"
   ]
  }
 ],
 "metadata": {
  "kernelspec": {
   "display_name": "Python 3",
   "language": "python",
   "name": "python3"
  },
  "language_info": {
   "codemirror_mode": {
    "name": "ipython",
    "version": 3
   },
   "file_extension": ".py",
   "mimetype": "text/x-python",
   "name": "python",
   "nbconvert_exporter": "python",
   "pygments_lexer": "ipython3",
   "version": "3.8.8"
  }
 },
 "nbformat": 4,
 "nbformat_minor": 4
}
